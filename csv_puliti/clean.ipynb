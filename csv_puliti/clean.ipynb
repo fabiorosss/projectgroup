{
 "cells": [
  {
   "cell_type": "markdown",
   "metadata": {},
   "source": [
    "# Schema ER"
   ]
  },
  {
   "cell_type": "code",
   "execution_count": 17,
   "metadata": {},
   "outputs": [
    {
     "name": "stderr",
     "output_type": "stream",
     "text": [
      "\"[]\" non Š riconosciuto come comando interno o esterno,\n",
      " un programma eseguibile o un file batch.\n"
     ]
    }
   ],
   "source": [
    "![](Screenshot 2024-05-06 095044.png)"
   ]
  },
  {
   "cell_type": "code",
   "execution_count": 136,
   "metadata": {},
   "outputs": [],
   "source": [
    "# Importazione delle librerie"
   ]
  },
  {
   "cell_type": "code",
   "execution_count": 18,
   "metadata": {
    "executionInfo": {
     "elapsed": 987,
     "status": "ok",
     "timestamp": 1716583661371,
     "user": {
      "displayName": "Fabio Rossin",
      "userId": "17830625158669258624"
     },
     "user_tz": -120
    },
    "id": "u1g3H7Byo0m4"
   },
   "outputs": [],
   "source": [
    "import pandas as pd\n",
    "import numpy as np\n"
   ]
  },
  {
   "cell_type": "markdown",
   "metadata": {},
   "source": [
    "# Data Cleaning"
   ]
  },
  {
   "cell_type": "code",
   "execution_count": 139,
   "metadata": {},
   "outputs": [],
   "source": [
    "#Lettura dei datasets"
   ]
  },
  {
   "cell_type": "code",
   "execution_count": 19,
   "metadata": {
    "executionInfo": {
     "elapsed": 285,
     "status": "ok",
     "timestamp": 1716581716875,
     "user": {
      "displayName": "Fabio Rossin",
      "userId": "17830625158669258624"
     },
     "user_tz": -120
    },
    "id": "FvJIArAypW8p"
   },
   "outputs": [],
   "source": [
    "flight = pd.read_csv(\"flight data.csv\")"
   ]
  },
  {
   "cell_type": "code",
   "execution_count": 20,
   "metadata": {
    "colab": {
     "base_uri": "https://localhost:8080/",
     "height": 580
    },
    "executionInfo": {
     "elapsed": 408,
     "status": "ok",
     "timestamp": 1716581722717,
     "user": {
      "displayName": "Fabio Rossin",
      "userId": "17830625158669258624"
     },
     "user_tz": -120
    },
    "id": "ixMXXcLIpXE2",
    "outputId": "f806d082-1dc6-4ae6-ef9b-677e9b10b327",
    "scrolled": true
   },
   "outputs": [
    {
     "data": {
      "text/html": [
       "<div>\n",
       "<style scoped>\n",
       "    .dataframe tbody tr th:only-of-type {\n",
       "        vertical-align: middle;\n",
       "    }\n",
       "\n",
       "    .dataframe tbody tr th {\n",
       "        vertical-align: top;\n",
       "    }\n",
       "\n",
       "    .dataframe thead th {\n",
       "        text-align: right;\n",
       "    }\n",
       "</style>\n",
       "<table border=\"1\" class=\"dataframe\">\n",
       "  <thead>\n",
       "    <tr style=\"text-align: right;\">\n",
       "      <th></th>\n",
       "      <th>from_airport_code</th>\n",
       "      <th>from_country</th>\n",
       "      <th>dest_airport_code</th>\n",
       "      <th>dest_country</th>\n",
       "      <th>aircraft_type</th>\n",
       "      <th>airline_number</th>\n",
       "      <th>airline_name</th>\n",
       "      <th>flight_number</th>\n",
       "      <th>departure_time</th>\n",
       "      <th>arrival_time</th>\n",
       "      <th>duration</th>\n",
       "      <th>stops</th>\n",
       "      <th>price</th>\n",
       "      <th>currency</th>\n",
       "      <th>co2_emissions</th>\n",
       "      <th>avg_co2_emission_for_this_route</th>\n",
       "      <th>co2_percentage</th>\n",
       "      <th>scan_date</th>\n",
       "    </tr>\n",
       "  </thead>\n",
       "  <tbody>\n",
       "    <tr>\n",
       "      <th>0</th>\n",
       "      <td>ALG</td>\n",
       "      <td>Algeria</td>\n",
       "      <td>AEP</td>\n",
       "      <td>Argentina</td>\n",
       "      <td>Airbus A318|Canadair RJ 1000|Airbus A330|Airbu...</td>\n",
       "      <td>multi</td>\n",
       "      <td>[Air France| Iberia| LATAM]</td>\n",
       "      <td>AF1491|AF1491|AF1491|AF1491</td>\n",
       "      <td>2022-04-30 14:30:00</td>\n",
       "      <td>2022-05-01 10:15:00</td>\n",
       "      <td>1425</td>\n",
       "      <td>3</td>\n",
       "      <td>1279.0</td>\n",
       "      <td>USD</td>\n",
       "      <td>1320000.0</td>\n",
       "      <td>1320000.0</td>\n",
       "      <td>0%</td>\n",
       "      <td>2022-04-29 17:52:59</td>\n",
       "    </tr>\n",
       "    <tr>\n",
       "      <th>1</th>\n",
       "      <td>ALG</td>\n",
       "      <td>Algeria</td>\n",
       "      <td>AEP</td>\n",
       "      <td>Argentina</td>\n",
       "      <td>Airbus A318|Canadair RJ 1000|Boeing 787|Airbus...</td>\n",
       "      <td>multi</td>\n",
       "      <td>[Air France| Iberia| LATAM]</td>\n",
       "      <td>AF1491|AF1491|AF1491|AF1491</td>\n",
       "      <td>2022-04-30 14:30:00</td>\n",
       "      <td>2022-05-01 10:15:00</td>\n",
       "      <td>1425</td>\n",
       "      <td>3</td>\n",
       "      <td>1279.0</td>\n",
       "      <td>USD</td>\n",
       "      <td>1195000.0</td>\n",
       "      <td>1320000.0</td>\n",
       "      <td>-9%</td>\n",
       "      <td>2022-04-29 17:52:59</td>\n",
       "    </tr>\n",
       "    <tr>\n",
       "      <th>2</th>\n",
       "      <td>ALG</td>\n",
       "      <td>Algeria</td>\n",
       "      <td>AEP</td>\n",
       "      <td>Argentina</td>\n",
       "      <td>Airbus A320|Airbus A321|Boeing 787|Airbus A320</td>\n",
       "      <td>multi</td>\n",
       "      <td>[Air France| LATAM]</td>\n",
       "      <td>AF1855|AF1855|AF1855|AF1855</td>\n",
       "      <td>2022-04-30 12:45:00</td>\n",
       "      <td>2022-05-01 10:15:00</td>\n",
       "      <td>1530</td>\n",
       "      <td>3</td>\n",
       "      <td>1284.0</td>\n",
       "      <td>USD</td>\n",
       "      <td>1248000.0</td>\n",
       "      <td>1320000.0</td>\n",
       "      <td>-5%</td>\n",
       "      <td>2022-04-29 17:52:59</td>\n",
       "    </tr>\n",
       "    <tr>\n",
       "      <th>3</th>\n",
       "      <td>ALG</td>\n",
       "      <td>Algeria</td>\n",
       "      <td>AEP</td>\n",
       "      <td>Argentina</td>\n",
       "      <td>Airbus A318|Airbus A320|Boeing 787|Airbus A320</td>\n",
       "      <td>multi</td>\n",
       "      <td>[Air France| LATAM]</td>\n",
       "      <td>AF1491|AF1491|AF1491|AF1491</td>\n",
       "      <td>2022-04-30 14:30:00</td>\n",
       "      <td>2022-05-01 10:15:00</td>\n",
       "      <td>1425</td>\n",
       "      <td>3</td>\n",
       "      <td>1290.0</td>\n",
       "      <td>USD</td>\n",
       "      <td>1347000.0</td>\n",
       "      <td>1320000.0</td>\n",
       "      <td>2%</td>\n",
       "      <td>2022-04-29 17:52:59</td>\n",
       "    </tr>\n",
       "    <tr>\n",
       "      <th>4</th>\n",
       "      <td>ALG</td>\n",
       "      <td>Algeria</td>\n",
       "      <td>AEP</td>\n",
       "      <td>Argentina</td>\n",
       "      <td>Airbus A321neo|Boeing 777|Airbus A320</td>\n",
       "      <td>multi</td>\n",
       "      <td>[Lufthansa| LATAM]</td>\n",
       "      <td>LH1317|LH1317|LH1317</td>\n",
       "      <td>2022-04-30 12:35:00</td>\n",
       "      <td>2022-05-01 10:15:00</td>\n",
       "      <td>1540</td>\n",
       "      <td>2</td>\n",
       "      <td>1347.0</td>\n",
       "      <td>USD</td>\n",
       "      <td>1381000.0</td>\n",
       "      <td>1320000.0</td>\n",
       "      <td>4%</td>\n",
       "      <td>2022-04-29 17:52:59</td>\n",
       "    </tr>\n",
       "    <tr>\n",
       "      <th>...</th>\n",
       "      <td>...</td>\n",
       "      <td>...</td>\n",
       "      <td>...</td>\n",
       "      <td>...</td>\n",
       "      <td>...</td>\n",
       "      <td>...</td>\n",
       "      <td>...</td>\n",
       "      <td>...</td>\n",
       "      <td>...</td>\n",
       "      <td>...</td>\n",
       "      <td>...</td>\n",
       "      <td>...</td>\n",
       "      <td>...</td>\n",
       "      <td>...</td>\n",
       "      <td>...</td>\n",
       "      <td>...</td>\n",
       "      <td>...</td>\n",
       "      <td>...</td>\n",
       "    </tr>\n",
       "    <tr>\n",
       "      <th>998861</th>\n",
       "      <td>BOM</td>\n",
       "      <td>India</td>\n",
       "      <td>SYD</td>\n",
       "      <td>Australia</td>\n",
       "      <td>Boeing 777|Airbus A380</td>\n",
       "      <td>EK</td>\n",
       "      <td>[Emirates]</td>\n",
       "      <td>EK503|EK503</td>\n",
       "      <td>2022-05-01 19:20:00</td>\n",
       "      <td>2022-05-02 22:05:00</td>\n",
       "      <td>1335</td>\n",
       "      <td>1</td>\n",
       "      <td>1317.0</td>\n",
       "      <td>USD</td>\n",
       "      <td>1567000.0</td>\n",
       "      <td>1133000.0</td>\n",
       "      <td>38%</td>\n",
       "      <td>2022-04-29 17:52:59</td>\n",
       "    </tr>\n",
       "    <tr>\n",
       "      <th>998862</th>\n",
       "      <td>BOM</td>\n",
       "      <td>India</td>\n",
       "      <td>SYD</td>\n",
       "      <td>Australia</td>\n",
       "      <td>Boeing 777|Airbus A380</td>\n",
       "      <td>EK</td>\n",
       "      <td>[Emirates]</td>\n",
       "      <td>EK509|EK509</td>\n",
       "      <td>2022-05-01 22:20:00</td>\n",
       "      <td>2022-05-02 22:05:00</td>\n",
       "      <td>1155</td>\n",
       "      <td>1</td>\n",
       "      <td>1317.0</td>\n",
       "      <td>USD</td>\n",
       "      <td>1583000.0</td>\n",
       "      <td>1133000.0</td>\n",
       "      <td>39%</td>\n",
       "      <td>2022-04-29 17:52:59</td>\n",
       "    </tr>\n",
       "    <tr>\n",
       "      <th>998863</th>\n",
       "      <td>BOM</td>\n",
       "      <td>India</td>\n",
       "      <td>SYD</td>\n",
       "      <td>Australia</td>\n",
       "      <td>Airbus A350|Boeing 787|Boeing 737</td>\n",
       "      <td>multi</td>\n",
       "      <td>[Etihad| Virgin Australia]</td>\n",
       "      <td>EY205|EY205|EY205</td>\n",
       "      <td>2022-05-01 04:35:00</td>\n",
       "      <td>2022-05-02 09:55:00</td>\n",
       "      <td>1490</td>\n",
       "      <td>2</td>\n",
       "      <td>1328.0</td>\n",
       "      <td>USD</td>\n",
       "      <td>1354000.0</td>\n",
       "      <td>1133000.0</td>\n",
       "      <td>19%</td>\n",
       "      <td>2022-04-29 17:52:59</td>\n",
       "    </tr>\n",
       "    <tr>\n",
       "      <th>998864</th>\n",
       "      <td>BOM</td>\n",
       "      <td>India</td>\n",
       "      <td>SYD</td>\n",
       "      <td>Australia</td>\n",
       "      <td>Airbus A321 (Sharklets)|Airbus A321|Airbus A330</td>\n",
       "      <td>multi</td>\n",
       "      <td>[Air India| SriLankan]</td>\n",
       "      <td>AI603|AI603|AI603</td>\n",
       "      <td>2022-05-01 06:10:00</td>\n",
       "      <td>2022-05-02 14:55:00</td>\n",
       "      <td>1695</td>\n",
       "      <td>2</td>\n",
       "      <td>1368.0</td>\n",
       "      <td>USD</td>\n",
       "      <td>1099000.0</td>\n",
       "      <td>1133000.0</td>\n",
       "      <td>-2%</td>\n",
       "      <td>2022-04-29 17:52:59</td>\n",
       "    </tr>\n",
       "    <tr>\n",
       "      <th>998865</th>\n",
       "      <td>BOM</td>\n",
       "      <td>India</td>\n",
       "      <td>SYD</td>\n",
       "      <td>Australia</td>\n",
       "      <td>Airbus A321 (Sharklets)|Airbus A321|Airbus A330</td>\n",
       "      <td>multi</td>\n",
       "      <td>[Air India| SriLankan]</td>\n",
       "      <td>AI639|AI639|AI639</td>\n",
       "      <td>2022-05-01 09:30:00</td>\n",
       "      <td>2022-05-02 14:55:00</td>\n",
       "      <td>1495</td>\n",
       "      <td>2</td>\n",
       "      <td>1368.0</td>\n",
       "      <td>USD</td>\n",
       "      <td>1099000.0</td>\n",
       "      <td>1133000.0</td>\n",
       "      <td>-2%</td>\n",
       "      <td>2022-04-29 17:52:59</td>\n",
       "    </tr>\n",
       "  </tbody>\n",
       "</table>\n",
       "<p>998866 rows × 18 columns</p>\n",
       "</div>"
      ],
      "text/plain": [
       "       from_airport_code from_country dest_airport_code dest_country  \\\n",
       "0                    ALG      Algeria               AEP    Argentina   \n",
       "1                    ALG      Algeria               AEP    Argentina   \n",
       "2                    ALG      Algeria               AEP    Argentina   \n",
       "3                    ALG      Algeria               AEP    Argentina   \n",
       "4                    ALG      Algeria               AEP    Argentina   \n",
       "...                  ...          ...               ...          ...   \n",
       "998861               BOM        India               SYD    Australia   \n",
       "998862               BOM        India               SYD    Australia   \n",
       "998863               BOM        India               SYD    Australia   \n",
       "998864               BOM        India               SYD    Australia   \n",
       "998865               BOM        India               SYD    Australia   \n",
       "\n",
       "                                            aircraft_type airline_number  \\\n",
       "0       Airbus A318|Canadair RJ 1000|Airbus A330|Airbu...          multi   \n",
       "1       Airbus A318|Canadair RJ 1000|Boeing 787|Airbus...          multi   \n",
       "2          Airbus A320|Airbus A321|Boeing 787|Airbus A320          multi   \n",
       "3          Airbus A318|Airbus A320|Boeing 787|Airbus A320          multi   \n",
       "4                   Airbus A321neo|Boeing 777|Airbus A320          multi   \n",
       "...                                                   ...            ...   \n",
       "998861                             Boeing 777|Airbus A380             EK   \n",
       "998862                             Boeing 777|Airbus A380             EK   \n",
       "998863                  Airbus A350|Boeing 787|Boeing 737          multi   \n",
       "998864    Airbus A321 (Sharklets)|Airbus A321|Airbus A330          multi   \n",
       "998865    Airbus A321 (Sharklets)|Airbus A321|Airbus A330          multi   \n",
       "\n",
       "                       airline_name                flight_number  \\\n",
       "0       [Air France| Iberia| LATAM]  AF1491|AF1491|AF1491|AF1491   \n",
       "1       [Air France| Iberia| LATAM]  AF1491|AF1491|AF1491|AF1491   \n",
       "2               [Air France| LATAM]  AF1855|AF1855|AF1855|AF1855   \n",
       "3               [Air France| LATAM]  AF1491|AF1491|AF1491|AF1491   \n",
       "4                [Lufthansa| LATAM]         LH1317|LH1317|LH1317   \n",
       "...                             ...                          ...   \n",
       "998861                   [Emirates]                  EK503|EK503   \n",
       "998862                   [Emirates]                  EK509|EK509   \n",
       "998863   [Etihad| Virgin Australia]            EY205|EY205|EY205   \n",
       "998864       [Air India| SriLankan]            AI603|AI603|AI603   \n",
       "998865       [Air India| SriLankan]            AI639|AI639|AI639   \n",
       "\n",
       "             departure_time         arrival_time  duration  stops   price  \\\n",
       "0       2022-04-30 14:30:00  2022-05-01 10:15:00      1425      3  1279.0   \n",
       "1       2022-04-30 14:30:00  2022-05-01 10:15:00      1425      3  1279.0   \n",
       "2       2022-04-30 12:45:00  2022-05-01 10:15:00      1530      3  1284.0   \n",
       "3       2022-04-30 14:30:00  2022-05-01 10:15:00      1425      3  1290.0   \n",
       "4       2022-04-30 12:35:00  2022-05-01 10:15:00      1540      2  1347.0   \n",
       "...                     ...                  ...       ...    ...     ...   \n",
       "998861  2022-05-01 19:20:00  2022-05-02 22:05:00      1335      1  1317.0   \n",
       "998862  2022-05-01 22:20:00  2022-05-02 22:05:00      1155      1  1317.0   \n",
       "998863  2022-05-01 04:35:00  2022-05-02 09:55:00      1490      2  1328.0   \n",
       "998864  2022-05-01 06:10:00  2022-05-02 14:55:00      1695      2  1368.0   \n",
       "998865  2022-05-01 09:30:00  2022-05-02 14:55:00      1495      2  1368.0   \n",
       "\n",
       "       currency  co2_emissions  avg_co2_emission_for_this_route  \\\n",
       "0           USD      1320000.0                        1320000.0   \n",
       "1           USD      1195000.0                        1320000.0   \n",
       "2           USD      1248000.0                        1320000.0   \n",
       "3           USD      1347000.0                        1320000.0   \n",
       "4           USD      1381000.0                        1320000.0   \n",
       "...         ...            ...                              ...   \n",
       "998861      USD      1567000.0                        1133000.0   \n",
       "998862      USD      1583000.0                        1133000.0   \n",
       "998863      USD      1354000.0                        1133000.0   \n",
       "998864      USD      1099000.0                        1133000.0   \n",
       "998865      USD      1099000.0                        1133000.0   \n",
       "\n",
       "       co2_percentage            scan_date  \n",
       "0                  0%  2022-04-29 17:52:59  \n",
       "1                 -9%  2022-04-29 17:52:59  \n",
       "2                 -5%  2022-04-29 17:52:59  \n",
       "3                  2%  2022-04-29 17:52:59  \n",
       "4                  4%  2022-04-29 17:52:59  \n",
       "...               ...                  ...  \n",
       "998861            38%  2022-04-29 17:52:59  \n",
       "998862            39%  2022-04-29 17:52:59  \n",
       "998863            19%  2022-04-29 17:52:59  \n",
       "998864            -2%  2022-04-29 17:52:59  \n",
       "998865            -2%  2022-04-29 17:52:59  \n",
       "\n",
       "[998866 rows x 18 columns]"
      ]
     },
     "execution_count": 20,
     "metadata": {},
     "output_type": "execute_result"
    }
   ],
   "source": [
    "flight"
   ]
  },
  {
   "cell_type": "code",
   "execution_count": 21,
   "metadata": {},
   "outputs": [
    {
     "data": {
      "text/plain": [
       "(998866, 18)"
      ]
     },
     "execution_count": 21,
     "metadata": {},
     "output_type": "execute_result"
    }
   ],
   "source": [
    "flight.shape"
   ]
  },
  {
   "cell_type": "code",
   "execution_count": 22,
   "metadata": {},
   "outputs": [
    {
     "name": "stdout",
     "output_type": "stream",
     "text": [
      "<class 'pandas.core.frame.DataFrame'>\n",
      "RangeIndex: 998866 entries, 0 to 998865\n",
      "Data columns (total 18 columns):\n",
      " #   Column                           Non-Null Count   Dtype  \n",
      "---  ------                           --------------   -----  \n",
      " 0   from_airport_code                998866 non-null  object \n",
      " 1   from_country                     998866 non-null  object \n",
      " 2   dest_airport_code                998866 non-null  object \n",
      " 3   dest_country                     998866 non-null  object \n",
      " 4   aircraft_type                    984952 non-null  object \n",
      " 5   airline_number                   998866 non-null  object \n",
      " 6   airline_name                     998866 non-null  object \n",
      " 7   flight_number                    998866 non-null  object \n",
      " 8   departure_time                   998866 non-null  object \n",
      " 9   arrival_time                     998866 non-null  object \n",
      " 10  duration                         998866 non-null  int64  \n",
      " 11  stops                            998866 non-null  int64  \n",
      " 12  price                            997513 non-null  float64\n",
      " 13  currency                         998866 non-null  object \n",
      " 14  co2_emissions                    993998 non-null  float64\n",
      " 15  avg_co2_emission_for_this_route  910464 non-null  float64\n",
      " 16  co2_percentage                   910464 non-null  object \n",
      " 17  scan_date                        998866 non-null  object \n",
      "dtypes: float64(3), int64(2), object(13)\n",
      "memory usage: 137.2+ MB\n"
     ]
    }
   ],
   "source": [
    "flight.info()"
   ]
  },
  {
   "cell_type": "code",
   "execution_count": 23,
   "metadata": {},
   "outputs": [
    {
     "data": {
      "text/plain": [
       "from_airport_code                      0\n",
       "from_country                           0\n",
       "dest_airport_code                      0\n",
       "dest_country                           0\n",
       "aircraft_type                      13914\n",
       "airline_number                         0\n",
       "airline_name                           0\n",
       "flight_number                          0\n",
       "departure_time                         0\n",
       "arrival_time                           0\n",
       "duration                               0\n",
       "stops                                  0\n",
       "price                               1353\n",
       "currency                               0\n",
       "co2_emissions                       4868\n",
       "avg_co2_emission_for_this_route    88402\n",
       "co2_percentage                     88402\n",
       "scan_date                              0\n",
       "dtype: int64"
      ]
     },
     "execution_count": 23,
     "metadata": {},
     "output_type": "execute_result"
    }
   ],
   "source": [
    "flight.isnull().sum()"
   ]
  },
  {
   "cell_type": "code",
   "execution_count": 24,
   "metadata": {},
   "outputs": [
    {
     "data": {
      "text/plain": [
       "array([False,  True])"
      ]
     },
     "execution_count": 24,
     "metadata": {},
     "output_type": "execute_result"
    }
   ],
   "source": [
    "flight.duplicated().unique()"
   ]
  },
  {
   "cell_type": "code",
   "execution_count": 25,
   "metadata": {},
   "outputs": [],
   "source": [
    "flight.drop(['scan_date', 'currency', 'duration'], axis = 1, inplace = True)"
   ]
  },
  {
   "cell_type": "code",
   "execution_count": 27,
   "metadata": {},
   "outputs": [],
   "source": [
    "flight.dropna(subset=['price', 'aircraft_type'],inplace = True)"
   ]
  },
  {
   "cell_type": "code",
   "execution_count": 28,
   "metadata": {},
   "outputs": [
    {
     "data": {
      "text/plain": [
       "(983599, 15)"
      ]
     },
     "execution_count": 28,
     "metadata": {},
     "output_type": "execute_result"
    }
   ],
   "source": [
    "flight.shape"
   ]
  },
  {
   "cell_type": "code",
   "execution_count": 29,
   "metadata": {},
   "outputs": [
    {
     "data": {
      "text/plain": [
       "from_airport_code                      0\n",
       "from_country                           0\n",
       "dest_airport_code                      0\n",
       "dest_country                           0\n",
       "aircraft_type                          0\n",
       "airline_number                         0\n",
       "airline_name                           0\n",
       "flight_number                          0\n",
       "departure_time                         0\n",
       "arrival_time                           0\n",
       "stops                                  0\n",
       "price                                  0\n",
       "co2_emissions                       4078\n",
       "avg_co2_emission_for_this_route    87537\n",
       "co2_percentage                     87537\n",
       "dtype: int64"
      ]
     },
     "execution_count": 29,
     "metadata": {},
     "output_type": "execute_result"
    }
   ],
   "source": [
    "flight.isnull().sum()"
   ]
  },
  {
   "cell_type": "code",
   "execution_count": 30,
   "metadata": {},
   "outputs": [],
   "source": [
    "flight['flight_number'] = flight['flight_number'].apply(lambda x : x.split(\"|\")[0])"
   ]
  },
  {
   "cell_type": "code",
   "execution_count": 31,
   "metadata": {},
   "outputs": [
    {
     "data": {
      "text/plain": [
       "0         AF1491\n",
       "1         AF1491\n",
       "2         AF1855\n",
       "3         AF1491\n",
       "4         LH1317\n",
       "           ...  \n",
       "998861     EK503\n",
       "998862     EK509\n",
       "998863     EY205\n",
       "998864     AI603\n",
       "998865     AI639\n",
       "Name: flight_number, Length: 983599, dtype: object"
      ]
     },
     "execution_count": 31,
     "metadata": {},
     "output_type": "execute_result"
    }
   ],
   "source": [
    "flight['flight_number']"
   ]
  },
  {
   "cell_type": "code",
   "execution_count": 146,
   "metadata": {},
   "outputs": [
    {
     "name": "stdout",
     "output_type": "stream",
     "text": [
      "<class 'pandas.core.frame.DataFrame'>\n",
      "Int64Index: 892539 entries, 0 to 998865\n",
      "Data columns (total 16 columns):\n",
      " #   Column                         Non-Null Count   Dtype          \n",
      "---  ------                         --------------   -----          \n",
      " 0   codice_aereoporto_di_partenza  892539 non-null  object         \n",
      " 1   paese_di_partenza              892539 non-null  object         \n",
      " 2   codice_aereoporto_di_arrivo    892539 non-null  object         \n",
      " 3   paese_di_arrivo                892539 non-null  object         \n",
      " 4   modello_aereo                  892539 non-null  object         \n",
      " 5   numero_di_compagnie            892539 non-null  object         \n",
      " 6   nome_compagnia                 892539 non-null  object         \n",
      " 7   codice_volo                    892539 non-null  object         \n",
      " 8   ora_partenza                   892539 non-null  datetime64[ns] \n",
      " 9   ora_arrivo                     892539 non-null  datetime64[ns] \n",
      " 10  num_scali                      892539 non-null  int64          \n",
      " 11  prezzo                         892539 non-null  float64        \n",
      " 12  emissioni_di_co2               892539 non-null  float64        \n",
      " 13  media_co2_percorso             892539 non-null  float64        \n",
      " 14  percentuale_co2                892539 non-null  int32          \n",
      " 15  durata                         892539 non-null  timedelta64[ns]\n",
      "dtypes: datetime64[ns](2), float64(3), int32(1), int64(1), object(8), timedelta64[ns](1)\n",
      "memory usage: 112.4+ MB\n"
     ]
    }
   ],
   "source": [
    "flight.info()"
   ]
  },
  {
   "cell_type": "code",
   "execution_count": 32,
   "metadata": {},
   "outputs": [],
   "source": [
    "flight['departure_time'] = pd.to_datetime(flight['departure_time'])\n",
    "flight['arrival_time'] = pd.to_datetime(flight['arrival_time'])"
   ]
  },
  {
   "cell_type": "code",
   "execution_count": 33,
   "metadata": {},
   "outputs": [],
   "source": [
    "flight['co2_percentage'] = flight['co2_percentage'].str[:-1]"
   ]
  },
  {
   "cell_type": "code",
   "execution_count": 34,
   "metadata": {},
   "outputs": [
    {
     "name": "stdout",
     "output_type": "stream",
     "text": [
      "<class 'pandas.core.frame.DataFrame'>\n",
      "Int64Index: 983599 entries, 0 to 998865\n",
      "Data columns (total 15 columns):\n",
      " #   Column                           Non-Null Count   Dtype         \n",
      "---  ------                           --------------   -----         \n",
      " 0   from_airport_code                983599 non-null  object        \n",
      " 1   from_country                     983599 non-null  object        \n",
      " 2   dest_airport_code                983599 non-null  object        \n",
      " 3   dest_country                     983599 non-null  object        \n",
      " 4   aircraft_type                    983599 non-null  object        \n",
      " 5   airline_number                   983599 non-null  object        \n",
      " 6   airline_name                     983599 non-null  object        \n",
      " 7   flight_number                    983599 non-null  object        \n",
      " 8   departure_time                   983599 non-null  datetime64[ns]\n",
      " 9   arrival_time                     983599 non-null  datetime64[ns]\n",
      " 10  stops                            983599 non-null  int64         \n",
      " 11  price                            983599 non-null  float64       \n",
      " 12  co2_emissions                    979521 non-null  float64       \n",
      " 13  avg_co2_emission_for_this_route  896062 non-null  float64       \n",
      " 14  co2_percentage                   896062 non-null  object        \n",
      "dtypes: datetime64[ns](2), float64(3), int64(1), object(9)\n",
      "memory usage: 120.1+ MB\n"
     ]
    }
   ],
   "source": [
    "flight.info()"
   ]
  },
  {
   "cell_type": "code",
   "execution_count": 35,
   "metadata": {},
   "outputs": [],
   "source": [
    "flight['duration'] = flight['arrival_time'] - flight['departure_time']"
   ]
  },
  {
   "cell_type": "code",
   "execution_count": 36,
   "metadata": {},
   "outputs": [
    {
     "ename": "ValueError",
     "evalue": "invalid literal for int() with base 10: 'nan'",
     "output_type": "error",
     "traceback": [
      "\u001b[1;31m---------------------------------------------------------------------------\u001b[0m",
      "\u001b[1;31mValueError\u001b[0m                                Traceback (most recent call last)",
      "\u001b[1;32m~\\AppData\\Local\\Temp\\ipykernel_12360\\883764714.py\u001b[0m in \u001b[0;36m<module>\u001b[1;34m\u001b[0m\n\u001b[1;32m----> 1\u001b[1;33m \u001b[0mflight\u001b[0m\u001b[1;33m[\u001b[0m\u001b[1;34m'co2_percentage'\u001b[0m\u001b[1;33m]\u001b[0m \u001b[1;33m=\u001b[0m \u001b[0mflight\u001b[0m\u001b[1;33m[\u001b[0m\u001b[1;34m'co2_percentage'\u001b[0m\u001b[1;33m]\u001b[0m\u001b[1;33m.\u001b[0m\u001b[0mastype\u001b[0m\u001b[1;33m(\u001b[0m\u001b[0mstr\u001b[0m\u001b[1;33m)\u001b[0m\u001b[1;33m.\u001b[0m\u001b[0mastype\u001b[0m\u001b[1;33m(\u001b[0m\u001b[0mint\u001b[0m\u001b[1;33m)\u001b[0m\u001b[1;33m\u001b[0m\u001b[1;33m\u001b[0m\u001b[0m\n\u001b[0m",
      "\u001b[1;32m~\\anaconda3\\lib\\site-packages\\pandas\\core\\generic.py\u001b[0m in \u001b[0;36mastype\u001b[1;34m(self, dtype, copy, errors)\u001b[0m\n\u001b[0;32m   5910\u001b[0m         \u001b[1;32melse\u001b[0m\u001b[1;33m:\u001b[0m\u001b[1;33m\u001b[0m\u001b[1;33m\u001b[0m\u001b[0m\n\u001b[0;32m   5911\u001b[0m             \u001b[1;31m# else, only a single dtype is given\u001b[0m\u001b[1;33m\u001b[0m\u001b[1;33m\u001b[0m\u001b[0m\n\u001b[1;32m-> 5912\u001b[1;33m             \u001b[0mnew_data\u001b[0m \u001b[1;33m=\u001b[0m \u001b[0mself\u001b[0m\u001b[1;33m.\u001b[0m\u001b[0m_mgr\u001b[0m\u001b[1;33m.\u001b[0m\u001b[0mastype\u001b[0m\u001b[1;33m(\u001b[0m\u001b[0mdtype\u001b[0m\u001b[1;33m=\u001b[0m\u001b[0mdtype\u001b[0m\u001b[1;33m,\u001b[0m \u001b[0mcopy\u001b[0m\u001b[1;33m=\u001b[0m\u001b[0mcopy\u001b[0m\u001b[1;33m,\u001b[0m \u001b[0merrors\u001b[0m\u001b[1;33m=\u001b[0m\u001b[0merrors\u001b[0m\u001b[1;33m)\u001b[0m\u001b[1;33m\u001b[0m\u001b[1;33m\u001b[0m\u001b[0m\n\u001b[0m\u001b[0;32m   5913\u001b[0m             \u001b[1;32mreturn\u001b[0m \u001b[0mself\u001b[0m\u001b[1;33m.\u001b[0m\u001b[0m_constructor\u001b[0m\u001b[1;33m(\u001b[0m\u001b[0mnew_data\u001b[0m\u001b[1;33m)\u001b[0m\u001b[1;33m.\u001b[0m\u001b[0m__finalize__\u001b[0m\u001b[1;33m(\u001b[0m\u001b[0mself\u001b[0m\u001b[1;33m,\u001b[0m \u001b[0mmethod\u001b[0m\u001b[1;33m=\u001b[0m\u001b[1;34m\"astype\"\u001b[0m\u001b[1;33m)\u001b[0m\u001b[1;33m\u001b[0m\u001b[1;33m\u001b[0m\u001b[0m\n\u001b[0;32m   5914\u001b[0m \u001b[1;33m\u001b[0m\u001b[0m\n",
      "\u001b[1;32m~\\anaconda3\\lib\\site-packages\\pandas\\core\\internals\\managers.py\u001b[0m in \u001b[0;36mastype\u001b[1;34m(self, dtype, copy, errors)\u001b[0m\n\u001b[0;32m    417\u001b[0m \u001b[1;33m\u001b[0m\u001b[0m\n\u001b[0;32m    418\u001b[0m     \u001b[1;32mdef\u001b[0m \u001b[0mastype\u001b[0m\u001b[1;33m(\u001b[0m\u001b[0mself\u001b[0m\u001b[1;33m:\u001b[0m \u001b[0mT\u001b[0m\u001b[1;33m,\u001b[0m \u001b[0mdtype\u001b[0m\u001b[1;33m,\u001b[0m \u001b[0mcopy\u001b[0m\u001b[1;33m:\u001b[0m \u001b[0mbool\u001b[0m \u001b[1;33m=\u001b[0m \u001b[1;32mFalse\u001b[0m\u001b[1;33m,\u001b[0m \u001b[0merrors\u001b[0m\u001b[1;33m:\u001b[0m \u001b[0mstr\u001b[0m \u001b[1;33m=\u001b[0m \u001b[1;34m\"raise\"\u001b[0m\u001b[1;33m)\u001b[0m \u001b[1;33m->\u001b[0m \u001b[0mT\u001b[0m\u001b[1;33m:\u001b[0m\u001b[1;33m\u001b[0m\u001b[1;33m\u001b[0m\u001b[0m\n\u001b[1;32m--> 419\u001b[1;33m         \u001b[1;32mreturn\u001b[0m \u001b[0mself\u001b[0m\u001b[1;33m.\u001b[0m\u001b[0mapply\u001b[0m\u001b[1;33m(\u001b[0m\u001b[1;34m\"astype\"\u001b[0m\u001b[1;33m,\u001b[0m \u001b[0mdtype\u001b[0m\u001b[1;33m=\u001b[0m\u001b[0mdtype\u001b[0m\u001b[1;33m,\u001b[0m \u001b[0mcopy\u001b[0m\u001b[1;33m=\u001b[0m\u001b[0mcopy\u001b[0m\u001b[1;33m,\u001b[0m \u001b[0merrors\u001b[0m\u001b[1;33m=\u001b[0m\u001b[0merrors\u001b[0m\u001b[1;33m)\u001b[0m\u001b[1;33m\u001b[0m\u001b[1;33m\u001b[0m\u001b[0m\n\u001b[0m\u001b[0;32m    420\u001b[0m \u001b[1;33m\u001b[0m\u001b[0m\n\u001b[0;32m    421\u001b[0m     def convert(\n",
      "\u001b[1;32m~\\anaconda3\\lib\\site-packages\\pandas\\core\\internals\\managers.py\u001b[0m in \u001b[0;36mapply\u001b[1;34m(self, f, align_keys, ignore_failures, **kwargs)\u001b[0m\n\u001b[0;32m    302\u001b[0m                     \u001b[0mapplied\u001b[0m \u001b[1;33m=\u001b[0m \u001b[0mb\u001b[0m\u001b[1;33m.\u001b[0m\u001b[0mapply\u001b[0m\u001b[1;33m(\u001b[0m\u001b[0mf\u001b[0m\u001b[1;33m,\u001b[0m \u001b[1;33m**\u001b[0m\u001b[0mkwargs\u001b[0m\u001b[1;33m)\u001b[0m\u001b[1;33m\u001b[0m\u001b[1;33m\u001b[0m\u001b[0m\n\u001b[0;32m    303\u001b[0m                 \u001b[1;32melse\u001b[0m\u001b[1;33m:\u001b[0m\u001b[1;33m\u001b[0m\u001b[1;33m\u001b[0m\u001b[0m\n\u001b[1;32m--> 304\u001b[1;33m                     \u001b[0mapplied\u001b[0m \u001b[1;33m=\u001b[0m \u001b[0mgetattr\u001b[0m\u001b[1;33m(\u001b[0m\u001b[0mb\u001b[0m\u001b[1;33m,\u001b[0m \u001b[0mf\u001b[0m\u001b[1;33m)\u001b[0m\u001b[1;33m(\u001b[0m\u001b[1;33m**\u001b[0m\u001b[0mkwargs\u001b[0m\u001b[1;33m)\u001b[0m\u001b[1;33m\u001b[0m\u001b[1;33m\u001b[0m\u001b[0m\n\u001b[0m\u001b[0;32m    305\u001b[0m             \u001b[1;32mexcept\u001b[0m \u001b[1;33m(\u001b[0m\u001b[0mTypeError\u001b[0m\u001b[1;33m,\u001b[0m \u001b[0mNotImplementedError\u001b[0m\u001b[1;33m)\u001b[0m\u001b[1;33m:\u001b[0m\u001b[1;33m\u001b[0m\u001b[1;33m\u001b[0m\u001b[0m\n\u001b[0;32m    306\u001b[0m                 \u001b[1;32mif\u001b[0m \u001b[1;32mnot\u001b[0m \u001b[0mignore_failures\u001b[0m\u001b[1;33m:\u001b[0m\u001b[1;33m\u001b[0m\u001b[1;33m\u001b[0m\u001b[0m\n",
      "\u001b[1;32m~\\anaconda3\\lib\\site-packages\\pandas\\core\\internals\\blocks.py\u001b[0m in \u001b[0;36mastype\u001b[1;34m(self, dtype, copy, errors)\u001b[0m\n\u001b[0;32m    578\u001b[0m         \u001b[0mvalues\u001b[0m \u001b[1;33m=\u001b[0m \u001b[0mself\u001b[0m\u001b[1;33m.\u001b[0m\u001b[0mvalues\u001b[0m\u001b[1;33m\u001b[0m\u001b[1;33m\u001b[0m\u001b[0m\n\u001b[0;32m    579\u001b[0m \u001b[1;33m\u001b[0m\u001b[0m\n\u001b[1;32m--> 580\u001b[1;33m         \u001b[0mnew_values\u001b[0m \u001b[1;33m=\u001b[0m \u001b[0mastype_array_safe\u001b[0m\u001b[1;33m(\u001b[0m\u001b[0mvalues\u001b[0m\u001b[1;33m,\u001b[0m \u001b[0mdtype\u001b[0m\u001b[1;33m,\u001b[0m \u001b[0mcopy\u001b[0m\u001b[1;33m=\u001b[0m\u001b[0mcopy\u001b[0m\u001b[1;33m,\u001b[0m \u001b[0merrors\u001b[0m\u001b[1;33m=\u001b[0m\u001b[0merrors\u001b[0m\u001b[1;33m)\u001b[0m\u001b[1;33m\u001b[0m\u001b[1;33m\u001b[0m\u001b[0m\n\u001b[0m\u001b[0;32m    581\u001b[0m \u001b[1;33m\u001b[0m\u001b[0m\n\u001b[0;32m    582\u001b[0m         \u001b[0mnew_values\u001b[0m \u001b[1;33m=\u001b[0m \u001b[0mmaybe_coerce_values\u001b[0m\u001b[1;33m(\u001b[0m\u001b[0mnew_values\u001b[0m\u001b[1;33m)\u001b[0m\u001b[1;33m\u001b[0m\u001b[1;33m\u001b[0m\u001b[0m\n",
      "\u001b[1;32m~\\anaconda3\\lib\\site-packages\\pandas\\core\\dtypes\\cast.py\u001b[0m in \u001b[0;36mastype_array_safe\u001b[1;34m(values, dtype, copy, errors)\u001b[0m\n\u001b[0;32m   1290\u001b[0m \u001b[1;33m\u001b[0m\u001b[0m\n\u001b[0;32m   1291\u001b[0m     \u001b[1;32mtry\u001b[0m\u001b[1;33m:\u001b[0m\u001b[1;33m\u001b[0m\u001b[1;33m\u001b[0m\u001b[0m\n\u001b[1;32m-> 1292\u001b[1;33m         \u001b[0mnew_values\u001b[0m \u001b[1;33m=\u001b[0m \u001b[0mastype_array\u001b[0m\u001b[1;33m(\u001b[0m\u001b[0mvalues\u001b[0m\u001b[1;33m,\u001b[0m \u001b[0mdtype\u001b[0m\u001b[1;33m,\u001b[0m \u001b[0mcopy\u001b[0m\u001b[1;33m=\u001b[0m\u001b[0mcopy\u001b[0m\u001b[1;33m)\u001b[0m\u001b[1;33m\u001b[0m\u001b[1;33m\u001b[0m\u001b[0m\n\u001b[0m\u001b[0;32m   1293\u001b[0m     \u001b[1;32mexcept\u001b[0m \u001b[1;33m(\u001b[0m\u001b[0mValueError\u001b[0m\u001b[1;33m,\u001b[0m \u001b[0mTypeError\u001b[0m\u001b[1;33m)\u001b[0m\u001b[1;33m:\u001b[0m\u001b[1;33m\u001b[0m\u001b[1;33m\u001b[0m\u001b[0m\n\u001b[0;32m   1294\u001b[0m         \u001b[1;31m# e.g. astype_nansafe can fail on object-dtype of strings\u001b[0m\u001b[1;33m\u001b[0m\u001b[1;33m\u001b[0m\u001b[0m\n",
      "\u001b[1;32m~\\anaconda3\\lib\\site-packages\\pandas\\core\\dtypes\\cast.py\u001b[0m in \u001b[0;36mastype_array\u001b[1;34m(values, dtype, copy)\u001b[0m\n\u001b[0;32m   1235\u001b[0m \u001b[1;33m\u001b[0m\u001b[0m\n\u001b[0;32m   1236\u001b[0m     \u001b[1;32melse\u001b[0m\u001b[1;33m:\u001b[0m\u001b[1;33m\u001b[0m\u001b[1;33m\u001b[0m\u001b[0m\n\u001b[1;32m-> 1237\u001b[1;33m         \u001b[0mvalues\u001b[0m \u001b[1;33m=\u001b[0m \u001b[0mastype_nansafe\u001b[0m\u001b[1;33m(\u001b[0m\u001b[0mvalues\u001b[0m\u001b[1;33m,\u001b[0m \u001b[0mdtype\u001b[0m\u001b[1;33m,\u001b[0m \u001b[0mcopy\u001b[0m\u001b[1;33m=\u001b[0m\u001b[0mcopy\u001b[0m\u001b[1;33m)\u001b[0m\u001b[1;33m\u001b[0m\u001b[1;33m\u001b[0m\u001b[0m\n\u001b[0m\u001b[0;32m   1238\u001b[0m \u001b[1;33m\u001b[0m\u001b[0m\n\u001b[0;32m   1239\u001b[0m     \u001b[1;31m# in pandas we don't store numpy str dtypes, so convert to object\u001b[0m\u001b[1;33m\u001b[0m\u001b[1;33m\u001b[0m\u001b[0m\n",
      "\u001b[1;32m~\\anaconda3\\lib\\site-packages\\pandas\\core\\dtypes\\cast.py\u001b[0m in \u001b[0;36mastype_nansafe\u001b[1;34m(arr, dtype, copy, skipna)\u001b[0m\n\u001b[0;32m   1152\u001b[0m         \u001b[1;31m# work around NumPy brokenness, #1987\u001b[0m\u001b[1;33m\u001b[0m\u001b[1;33m\u001b[0m\u001b[0m\n\u001b[0;32m   1153\u001b[0m         \u001b[1;32mif\u001b[0m \u001b[0mnp\u001b[0m\u001b[1;33m.\u001b[0m\u001b[0missubdtype\u001b[0m\u001b[1;33m(\u001b[0m\u001b[0mdtype\u001b[0m\u001b[1;33m.\u001b[0m\u001b[0mtype\u001b[0m\u001b[1;33m,\u001b[0m \u001b[0mnp\u001b[0m\u001b[1;33m.\u001b[0m\u001b[0minteger\u001b[0m\u001b[1;33m)\u001b[0m\u001b[1;33m:\u001b[0m\u001b[1;33m\u001b[0m\u001b[1;33m\u001b[0m\u001b[0m\n\u001b[1;32m-> 1154\u001b[1;33m             \u001b[1;32mreturn\u001b[0m \u001b[0mlib\u001b[0m\u001b[1;33m.\u001b[0m\u001b[0mastype_intsafe\u001b[0m\u001b[1;33m(\u001b[0m\u001b[0marr\u001b[0m\u001b[1;33m,\u001b[0m \u001b[0mdtype\u001b[0m\u001b[1;33m)\u001b[0m\u001b[1;33m\u001b[0m\u001b[1;33m\u001b[0m\u001b[0m\n\u001b[0m\u001b[0;32m   1155\u001b[0m \u001b[1;33m\u001b[0m\u001b[0m\n\u001b[0;32m   1156\u001b[0m         \u001b[1;31m# if we have a datetime/timedelta array of objects\u001b[0m\u001b[1;33m\u001b[0m\u001b[1;33m\u001b[0m\u001b[0m\n",
      "\u001b[1;32m~\\anaconda3\\lib\\site-packages\\pandas\\_libs\\lib.pyx\u001b[0m in \u001b[0;36mpandas._libs.lib.astype_intsafe\u001b[1;34m()\u001b[0m\n",
      "\u001b[1;31mValueError\u001b[0m: invalid literal for int() with base 10: 'nan'"
     ]
    }
   ],
   "source": [
    "#flight['co2_percentage'] = flight['co2_percentage'].astype(str).astype(int)"
   ]
  },
  {
   "cell_type": "code",
   "execution_count": 37,
   "metadata": {},
   "outputs": [
    {
     "data": {
      "text/html": [
       "<div>\n",
       "<style scoped>\n",
       "    .dataframe tbody tr th:only-of-type {\n",
       "        vertical-align: middle;\n",
       "    }\n",
       "\n",
       "    .dataframe tbody tr th {\n",
       "        vertical-align: top;\n",
       "    }\n",
       "\n",
       "    .dataframe thead th {\n",
       "        text-align: right;\n",
       "    }\n",
       "</style>\n",
       "<table border=\"1\" class=\"dataframe\">\n",
       "  <thead>\n",
       "    <tr style=\"text-align: right;\">\n",
       "      <th></th>\n",
       "      <th>from_airport_code</th>\n",
       "      <th>from_country</th>\n",
       "      <th>dest_airport_code</th>\n",
       "      <th>dest_country</th>\n",
       "      <th>aircraft_type</th>\n",
       "      <th>airline_number</th>\n",
       "      <th>airline_name</th>\n",
       "      <th>flight_number</th>\n",
       "      <th>departure_time</th>\n",
       "      <th>arrival_time</th>\n",
       "      <th>stops</th>\n",
       "      <th>price</th>\n",
       "      <th>co2_emissions</th>\n",
       "      <th>avg_co2_emission_for_this_route</th>\n",
       "      <th>co2_percentage</th>\n",
       "      <th>duration</th>\n",
       "    </tr>\n",
       "  </thead>\n",
       "  <tbody>\n",
       "    <tr>\n",
       "      <th>0</th>\n",
       "      <td>ALG</td>\n",
       "      <td>Algeria</td>\n",
       "      <td>AEP</td>\n",
       "      <td>Argentina</td>\n",
       "      <td>Airbus A318|Canadair RJ 1000|Airbus A330|Airbu...</td>\n",
       "      <td>multi</td>\n",
       "      <td>[Air France| Iberia| LATAM]</td>\n",
       "      <td>AF1491</td>\n",
       "      <td>2022-04-30 14:30:00</td>\n",
       "      <td>2022-05-01 10:15:00</td>\n",
       "      <td>3</td>\n",
       "      <td>1279.0</td>\n",
       "      <td>1320000.0</td>\n",
       "      <td>1320000.0</td>\n",
       "      <td>0</td>\n",
       "      <td>0 days 19:45:00</td>\n",
       "    </tr>\n",
       "    <tr>\n",
       "      <th>1</th>\n",
       "      <td>ALG</td>\n",
       "      <td>Algeria</td>\n",
       "      <td>AEP</td>\n",
       "      <td>Argentina</td>\n",
       "      <td>Airbus A318|Canadair RJ 1000|Boeing 787|Airbus...</td>\n",
       "      <td>multi</td>\n",
       "      <td>[Air France| Iberia| LATAM]</td>\n",
       "      <td>AF1491</td>\n",
       "      <td>2022-04-30 14:30:00</td>\n",
       "      <td>2022-05-01 10:15:00</td>\n",
       "      <td>3</td>\n",
       "      <td>1279.0</td>\n",
       "      <td>1195000.0</td>\n",
       "      <td>1320000.0</td>\n",
       "      <td>-9</td>\n",
       "      <td>0 days 19:45:00</td>\n",
       "    </tr>\n",
       "    <tr>\n",
       "      <th>2</th>\n",
       "      <td>ALG</td>\n",
       "      <td>Algeria</td>\n",
       "      <td>AEP</td>\n",
       "      <td>Argentina</td>\n",
       "      <td>Airbus A320|Airbus A321|Boeing 787|Airbus A320</td>\n",
       "      <td>multi</td>\n",
       "      <td>[Air France| LATAM]</td>\n",
       "      <td>AF1855</td>\n",
       "      <td>2022-04-30 12:45:00</td>\n",
       "      <td>2022-05-01 10:15:00</td>\n",
       "      <td>3</td>\n",
       "      <td>1284.0</td>\n",
       "      <td>1248000.0</td>\n",
       "      <td>1320000.0</td>\n",
       "      <td>-5</td>\n",
       "      <td>0 days 21:30:00</td>\n",
       "    </tr>\n",
       "  </tbody>\n",
       "</table>\n",
       "</div>"
      ],
      "text/plain": [
       "  from_airport_code from_country dest_airport_code dest_country  \\\n",
       "0               ALG      Algeria               AEP    Argentina   \n",
       "1               ALG      Algeria               AEP    Argentina   \n",
       "2               ALG      Algeria               AEP    Argentina   \n",
       "\n",
       "                                       aircraft_type airline_number  \\\n",
       "0  Airbus A318|Canadair RJ 1000|Airbus A330|Airbu...          multi   \n",
       "1  Airbus A318|Canadair RJ 1000|Boeing 787|Airbus...          multi   \n",
       "2     Airbus A320|Airbus A321|Boeing 787|Airbus A320          multi   \n",
       "\n",
       "                  airline_name flight_number      departure_time  \\\n",
       "0  [Air France| Iberia| LATAM]        AF1491 2022-04-30 14:30:00   \n",
       "1  [Air France| Iberia| LATAM]        AF1491 2022-04-30 14:30:00   \n",
       "2          [Air France| LATAM]        AF1855 2022-04-30 12:45:00   \n",
       "\n",
       "         arrival_time  stops   price  co2_emissions  \\\n",
       "0 2022-05-01 10:15:00      3  1279.0      1320000.0   \n",
       "1 2022-05-01 10:15:00      3  1279.0      1195000.0   \n",
       "2 2022-05-01 10:15:00      3  1284.0      1248000.0   \n",
       "\n",
       "   avg_co2_emission_for_this_route co2_percentage        duration  \n",
       "0                        1320000.0              0 0 days 19:45:00  \n",
       "1                        1320000.0             -9 0 days 19:45:00  \n",
       "2                        1320000.0             -5 0 days 21:30:00  "
      ]
     },
     "execution_count": 37,
     "metadata": {},
     "output_type": "execute_result"
    }
   ],
   "source": [
    "flight.head(3)"
   ]
  },
  {
   "cell_type": "code",
   "execution_count": 38,
   "metadata": {},
   "outputs": [
    {
     "name": "stdout",
     "output_type": "stream",
     "text": [
      "<class 'pandas.core.frame.DataFrame'>\n",
      "Int64Index: 983599 entries, 0 to 998865\n",
      "Data columns (total 16 columns):\n",
      " #   Column                           Non-Null Count   Dtype          \n",
      "---  ------                           --------------   -----          \n",
      " 0   from_airport_code                983599 non-null  object         \n",
      " 1   from_country                     983599 non-null  object         \n",
      " 2   dest_airport_code                983599 non-null  object         \n",
      " 3   dest_country                     983599 non-null  object         \n",
      " 4   aircraft_type                    983599 non-null  object         \n",
      " 5   airline_number                   983599 non-null  object         \n",
      " 6   airline_name                     983599 non-null  object         \n",
      " 7   flight_number                    983599 non-null  object         \n",
      " 8   departure_time                   983599 non-null  datetime64[ns] \n",
      " 9   arrival_time                     983599 non-null  datetime64[ns] \n",
      " 10  stops                            983599 non-null  int64          \n",
      " 11  price                            983599 non-null  float64        \n",
      " 12  co2_emissions                    979521 non-null  float64        \n",
      " 13  avg_co2_emission_for_this_route  896062 non-null  float64        \n",
      " 14  co2_percentage                   896062 non-null  object         \n",
      " 15  duration                         983599 non-null  timedelta64[ns]\n",
      "dtypes: datetime64[ns](2), float64(3), int64(1), object(9), timedelta64[ns](1)\n",
      "memory usage: 127.6+ MB\n"
     ]
    }
   ],
   "source": [
    " flight.info()"
   ]
  },
  {
   "cell_type": "code",
   "execution_count": 39,
   "metadata": {},
   "outputs": [],
   "source": [
    "def f(x):\n",
    "    if x != \"multi\":\n",
    "        x = \"singolo\"\n",
    "    return x\n",
    "flight['airline_number'] = flight['airline_number'].apply(f)"
   ]
  },
  {
   "cell_type": "code",
   "execution_count": 40,
   "metadata": {},
   "outputs": [
    {
     "data": {
      "text/plain": [
       "array(['multi', 'singolo'], dtype=object)"
      ]
     },
     "execution_count": 40,
     "metadata": {},
     "output_type": "execute_result"
    }
   ],
   "source": [
    "flight['airline_number'].unique()"
   ]
  },
  {
   "cell_type": "code",
   "execution_count": 41,
   "metadata": {},
   "outputs": [],
   "source": [
    "flight.set_axis(['codice_aereoporto_di_partenza', 'paese_di_partenza', 'codice_aereoporto_di_arrivo', 'paese_di_arrivo', \\\n",
    "            'modello_aereo', 'numero_di_compagnie', 'nome_compagnia', 'codice_volo', 'ora_partenza', 'ora_arrivo', \\\n",
    "            'num_scali', 'prezzo', 'emissioni_di_co2', 'media_co2_percorso', 'percentuale_co2', 'durata'], axis = \"columns\", inplace = True)"
   ]
  },
  {
   "cell_type": "code",
   "execution_count": 42,
   "metadata": {},
   "outputs": [
    {
     "data": {
      "text/html": [
       "<div>\n",
       "<style scoped>\n",
       "    .dataframe tbody tr th:only-of-type {\n",
       "        vertical-align: middle;\n",
       "    }\n",
       "\n",
       "    .dataframe tbody tr th {\n",
       "        vertical-align: top;\n",
       "    }\n",
       "\n",
       "    .dataframe thead th {\n",
       "        text-align: right;\n",
       "    }\n",
       "</style>\n",
       "<table border=\"1\" class=\"dataframe\">\n",
       "  <thead>\n",
       "    <tr style=\"text-align: right;\">\n",
       "      <th></th>\n",
       "      <th>codice_aereoporto_di_partenza</th>\n",
       "      <th>paese_di_partenza</th>\n",
       "      <th>codice_aereoporto_di_arrivo</th>\n",
       "      <th>paese_di_arrivo</th>\n",
       "      <th>modello_aereo</th>\n",
       "      <th>numero_di_compagnie</th>\n",
       "      <th>nome_compagnia</th>\n",
       "      <th>codice_volo</th>\n",
       "      <th>ora_partenza</th>\n",
       "      <th>ora_arrivo</th>\n",
       "      <th>num_scali</th>\n",
       "      <th>prezzo</th>\n",
       "      <th>emissioni_di_co2</th>\n",
       "      <th>media_co2_percorso</th>\n",
       "      <th>percentuale_co2</th>\n",
       "      <th>durata</th>\n",
       "    </tr>\n",
       "  </thead>\n",
       "  <tbody>\n",
       "    <tr>\n",
       "      <th>0</th>\n",
       "      <td>ALG</td>\n",
       "      <td>Algeria</td>\n",
       "      <td>AEP</td>\n",
       "      <td>Argentina</td>\n",
       "      <td>Airbus A318|Canadair RJ 1000|Airbus A330|Airbu...</td>\n",
       "      <td>multi</td>\n",
       "      <td>[Air France| Iberia| LATAM]</td>\n",
       "      <td>AF1491</td>\n",
       "      <td>2022-04-30 14:30:00</td>\n",
       "      <td>2022-05-01 10:15:00</td>\n",
       "      <td>3</td>\n",
       "      <td>1279.0</td>\n",
       "      <td>1320000.0</td>\n",
       "      <td>1320000.0</td>\n",
       "      <td>0</td>\n",
       "      <td>0 days 19:45:00</td>\n",
       "    </tr>\n",
       "  </tbody>\n",
       "</table>\n",
       "</div>"
      ],
      "text/plain": [
       "  codice_aereoporto_di_partenza paese_di_partenza codice_aereoporto_di_arrivo  \\\n",
       "0                           ALG           Algeria                         AEP   \n",
       "\n",
       "  paese_di_arrivo                                      modello_aereo  \\\n",
       "0       Argentina  Airbus A318|Canadair RJ 1000|Airbus A330|Airbu...   \n",
       "\n",
       "  numero_di_compagnie               nome_compagnia codice_volo  \\\n",
       "0               multi  [Air France| Iberia| LATAM]      AF1491   \n",
       "\n",
       "         ora_partenza          ora_arrivo  num_scali  prezzo  \\\n",
       "0 2022-04-30 14:30:00 2022-05-01 10:15:00          3  1279.0   \n",
       "\n",
       "   emissioni_di_co2  media_co2_percorso percentuale_co2          durata  \n",
       "0         1320000.0           1320000.0               0 0 days 19:45:00  "
      ]
     },
     "execution_count": 42,
     "metadata": {},
     "output_type": "execute_result"
    }
   ],
   "source": [
    "flight.head(1)"
   ]
  },
  {
   "cell_type": "code",
   "execution_count": 49,
   "metadata": {},
   "outputs": [],
   "source": []
  },
  {
   "cell_type": "code",
   "execution_count": 71,
   "metadata": {},
   "outputs": [],
   "source": [
    "def converti_data(data):\n",
    "    if data == 4:\n",
    "        return \"Aprile\"\n",
    "    elif data == 5:\n",
    "        return \"Maggio\"\n",
    "    elif data == 6:\n",
    "        return \"Giugno\"\n",
    "    elif data == 7:\n",
    "        return \"Luglio\"\n",
    "    else:\n",
    "        return \"Agosto\""
   ]
  },
  {
   "cell_type": "code",
   "execution_count": 72,
   "metadata": {},
   "outputs": [],
   "source": [
    "flight['Mese'] = flight['mese'].apply(converti_data)"
   ]
  },
  {
   "cell_type": "code",
   "execution_count": 73,
   "metadata": {},
   "outputs": [
    {
     "data": {
      "text/html": [
       "<div>\n",
       "<style scoped>\n",
       "    .dataframe tbody tr th:only-of-type {\n",
       "        vertical-align: middle;\n",
       "    }\n",
       "\n",
       "    .dataframe tbody tr th {\n",
       "        vertical-align: top;\n",
       "    }\n",
       "\n",
       "    .dataframe thead th {\n",
       "        text-align: right;\n",
       "    }\n",
       "</style>\n",
       "<table border=\"1\" class=\"dataframe\">\n",
       "  <thead>\n",
       "    <tr style=\"text-align: right;\">\n",
       "      <th></th>\n",
       "      <th>codice_aereoporto_di_partenza</th>\n",
       "      <th>paese_di_partenza</th>\n",
       "      <th>codice_aereoporto_di_arrivo</th>\n",
       "      <th>paese_di_arrivo</th>\n",
       "      <th>modello_aereo</th>\n",
       "      <th>numero_di_compagnie</th>\n",
       "      <th>nome_compagnia</th>\n",
       "      <th>codice_volo</th>\n",
       "      <th>ora_partenza</th>\n",
       "      <th>ora_arrivo</th>\n",
       "      <th>num_scali</th>\n",
       "      <th>prezzo</th>\n",
       "      <th>emissioni_di_co2</th>\n",
       "      <th>media_co2_percorso</th>\n",
       "      <th>percentuale_co2</th>\n",
       "      <th>durata</th>\n",
       "      <th>mese</th>\n",
       "      <th>Mese</th>\n",
       "    </tr>\n",
       "  </thead>\n",
       "  <tbody>\n",
       "    <tr>\n",
       "      <th>0</th>\n",
       "      <td>ALG</td>\n",
       "      <td>Algeria</td>\n",
       "      <td>AEP</td>\n",
       "      <td>Argentina</td>\n",
       "      <td>Airbus A318|Canadair RJ 1000|Airbus A330|Airbu...</td>\n",
       "      <td>multi</td>\n",
       "      <td>[Air France| Iberia| LATAM]</td>\n",
       "      <td>AF1491</td>\n",
       "      <td>2022-04-30 14:30:00</td>\n",
       "      <td>2022-maggio-01</td>\n",
       "      <td>3</td>\n",
       "      <td>1279.0</td>\n",
       "      <td>1320000.0</td>\n",
       "      <td>1320000.0</td>\n",
       "      <td>0</td>\n",
       "      <td>0 days 19:45:00</td>\n",
       "      <td>5</td>\n",
       "      <td>Maggio</td>\n",
       "    </tr>\n",
       "    <tr>\n",
       "      <th>1</th>\n",
       "      <td>ALG</td>\n",
       "      <td>Algeria</td>\n",
       "      <td>AEP</td>\n",
       "      <td>Argentina</td>\n",
       "      <td>Airbus A318|Canadair RJ 1000|Boeing 787|Airbus...</td>\n",
       "      <td>multi</td>\n",
       "      <td>[Air France| Iberia| LATAM]</td>\n",
       "      <td>AF1491</td>\n",
       "      <td>2022-04-30 14:30:00</td>\n",
       "      <td>2022-maggio-01</td>\n",
       "      <td>3</td>\n",
       "      <td>1279.0</td>\n",
       "      <td>1195000.0</td>\n",
       "      <td>1320000.0</td>\n",
       "      <td>-9</td>\n",
       "      <td>0 days 19:45:00</td>\n",
       "      <td>5</td>\n",
       "      <td>Maggio</td>\n",
       "    </tr>\n",
       "    <tr>\n",
       "      <th>2</th>\n",
       "      <td>ALG</td>\n",
       "      <td>Algeria</td>\n",
       "      <td>AEP</td>\n",
       "      <td>Argentina</td>\n",
       "      <td>Airbus A320|Airbus A321|Boeing 787|Airbus A320</td>\n",
       "      <td>multi</td>\n",
       "      <td>[Air France| LATAM]</td>\n",
       "      <td>AF1855</td>\n",
       "      <td>2022-04-30 12:45:00</td>\n",
       "      <td>2022-maggio-01</td>\n",
       "      <td>3</td>\n",
       "      <td>1284.0</td>\n",
       "      <td>1248000.0</td>\n",
       "      <td>1320000.0</td>\n",
       "      <td>-5</td>\n",
       "      <td>0 days 21:30:00</td>\n",
       "      <td>5</td>\n",
       "      <td>Maggio</td>\n",
       "    </tr>\n",
       "    <tr>\n",
       "      <th>3</th>\n",
       "      <td>ALG</td>\n",
       "      <td>Algeria</td>\n",
       "      <td>AEP</td>\n",
       "      <td>Argentina</td>\n",
       "      <td>Airbus A318|Airbus A320|Boeing 787|Airbus A320</td>\n",
       "      <td>multi</td>\n",
       "      <td>[Air France| LATAM]</td>\n",
       "      <td>AF1491</td>\n",
       "      <td>2022-04-30 14:30:00</td>\n",
       "      <td>2022-maggio-01</td>\n",
       "      <td>3</td>\n",
       "      <td>1290.0</td>\n",
       "      <td>1347000.0</td>\n",
       "      <td>1320000.0</td>\n",
       "      <td>2</td>\n",
       "      <td>0 days 19:45:00</td>\n",
       "      <td>5</td>\n",
       "      <td>Maggio</td>\n",
       "    </tr>\n",
       "    <tr>\n",
       "      <th>4</th>\n",
       "      <td>ALG</td>\n",
       "      <td>Algeria</td>\n",
       "      <td>AEP</td>\n",
       "      <td>Argentina</td>\n",
       "      <td>Airbus A321neo|Boeing 777|Airbus A320</td>\n",
       "      <td>multi</td>\n",
       "      <td>[Lufthansa| LATAM]</td>\n",
       "      <td>LH1317</td>\n",
       "      <td>2022-04-30 12:35:00</td>\n",
       "      <td>2022-maggio-01</td>\n",
       "      <td>2</td>\n",
       "      <td>1347.0</td>\n",
       "      <td>1381000.0</td>\n",
       "      <td>1320000.0</td>\n",
       "      <td>4</td>\n",
       "      <td>0 days 21:40:00</td>\n",
       "      <td>5</td>\n",
       "      <td>Maggio</td>\n",
       "    </tr>\n",
       "  </tbody>\n",
       "</table>\n",
       "</div>"
      ],
      "text/plain": [
       "  codice_aereoporto_di_partenza paese_di_partenza codice_aereoporto_di_arrivo  \\\n",
       "0                           ALG           Algeria                         AEP   \n",
       "1                           ALG           Algeria                         AEP   \n",
       "2                           ALG           Algeria                         AEP   \n",
       "3                           ALG           Algeria                         AEP   \n",
       "4                           ALG           Algeria                         AEP   \n",
       "\n",
       "  paese_di_arrivo                                      modello_aereo  \\\n",
       "0       Argentina  Airbus A318|Canadair RJ 1000|Airbus A330|Airbu...   \n",
       "1       Argentina  Airbus A318|Canadair RJ 1000|Boeing 787|Airbus...   \n",
       "2       Argentina     Airbus A320|Airbus A321|Boeing 787|Airbus A320   \n",
       "3       Argentina     Airbus A318|Airbus A320|Boeing 787|Airbus A320   \n",
       "4       Argentina              Airbus A321neo|Boeing 777|Airbus A320   \n",
       "\n",
       "  numero_di_compagnie               nome_compagnia codice_volo  \\\n",
       "0               multi  [Air France| Iberia| LATAM]      AF1491   \n",
       "1               multi  [Air France| Iberia| LATAM]      AF1491   \n",
       "2               multi          [Air France| LATAM]      AF1855   \n",
       "3               multi          [Air France| LATAM]      AF1491   \n",
       "4               multi           [Lufthansa| LATAM]      LH1317   \n",
       "\n",
       "         ora_partenza      ora_arrivo  num_scali  prezzo  emissioni_di_co2  \\\n",
       "0 2022-04-30 14:30:00  2022-maggio-01          3  1279.0         1320000.0   \n",
       "1 2022-04-30 14:30:00  2022-maggio-01          3  1279.0         1195000.0   \n",
       "2 2022-04-30 12:45:00  2022-maggio-01          3  1284.0         1248000.0   \n",
       "3 2022-04-30 14:30:00  2022-maggio-01          3  1290.0         1347000.0   \n",
       "4 2022-04-30 12:35:00  2022-maggio-01          2  1347.0         1381000.0   \n",
       "\n",
       "   media_co2_percorso percentuale_co2          durata  mese    Mese  \n",
       "0           1320000.0               0 0 days 19:45:00     5  Maggio  \n",
       "1           1320000.0              -9 0 days 19:45:00     5  Maggio  \n",
       "2           1320000.0              -5 0 days 21:30:00     5  Maggio  \n",
       "3           1320000.0               2 0 days 19:45:00     5  Maggio  \n",
       "4           1320000.0               4 0 days 21:40:00     5  Maggio  "
      ]
     },
     "execution_count": 73,
     "metadata": {},
     "output_type": "execute_result"
    }
   ],
   "source": [
    "flight.head()"
   ]
  },
  {
   "cell_type": "code",
   "execution_count": 74,
   "metadata": {},
   "outputs": [
    {
     "data": {
      "text/plain": [
       "array(['Maggio', 'Giugno', 'Luglio', 'Agosto', 'Aprile'], dtype=object)"
      ]
     },
     "execution_count": 74,
     "metadata": {},
     "output_type": "execute_result"
    }
   ],
   "source": [
    "flight['Mese'].unique()"
   ]
  },
  {
   "cell_type": "code",
   "execution_count": 76,
   "metadata": {},
   "outputs": [
    {
     "data": {
      "text/plain": [
       "51166"
      ]
     },
     "execution_count": 76,
     "metadata": {},
     "output_type": "execute_result"
    }
   ],
   "source": [
    "flight.duplicated().sum()"
   ]
  },
  {
   "cell_type": "code",
   "execution_count": 77,
   "metadata": {},
   "outputs": [],
   "source": [
    "flight.drop_duplicates(inplace = True)"
   ]
  },
  {
   "cell_type": "code",
   "execution_count": 78,
   "metadata": {},
   "outputs": [
    {
     "data": {
      "text/plain": [
       "0"
      ]
     },
     "execution_count": 78,
     "metadata": {},
     "output_type": "execute_result"
    }
   ],
   "source": [
    "flight.duplicated().sum()"
   ]
  },
  {
   "cell_type": "code",
   "execution_count": 79,
   "metadata": {},
   "outputs": [],
   "source": [
    "import seaborn as sns"
   ]
  },
  {
   "cell_type": "code",
   "execution_count": 81,
   "metadata": {},
   "outputs": [
    {
     "name": "stdout",
     "output_type": "stream",
     "text": [
      "0         0\n",
      "1    108788\n",
      "dtype: int64\n"
     ]
    }
   ],
   "source": [
    "lista = flight['nome_compagnia'].to_list()\n",
    "\n",
    "df_airline = pd.read_csv('airlines_final.csv')\n",
    "df_airline.drop_duplicates()\n",
    "lista_compagnie = df_airline['Name'].to_list()\n",
    "diz_compagnie = {elem[1]: elem[0] for elem in enumerate(lista_compagnie)}\n",
    "\n",
    "lista2 = []\n",
    "for elem in lista:\n",
    "    lista2.append(elem.replace('[', '').replace(']', '').split('| '))\n",
    "\n",
    "lista_id = []\n",
    "for elem in enumerate(lista2, start=1):\n",
    "    for i in range(len(elem[1])):\n",
    "        lista_id.append([elem[0], elem[1][i]])\n",
    "\n",
    "df_da_esportare = pd.DataFrame(lista_id)\n",
    "\n",
    "df_da_esportare[1] = df_da_esportare[1].map(diz_compagnie)\n",
    "print(df_da_esportare.isnull().sum())\n",
    "\n",
    "df_da_esportare.to_csv('df_da_esportare.csv')"
   ]
  },
  {
   "cell_type": "code",
   "execution_count": null,
   "metadata": {},
   "outputs": [],
   "source": []
  }
 ],
 "metadata": {
  "colab": {
   "authorship_tag": "ABX9TyN3x0EEcVirLXJ1cOXEEX49",
   "mount_file_id": "13bBul-4_EoIe4B9-UFitIubP8_ZR5Pv-",
   "provenance": []
  },
  "kernelspec": {
   "display_name": "Python 3 (ipykernel)",
   "language": "python",
   "name": "python3"
  },
  "language_info": {
   "codemirror_mode": {
    "name": "ipython",
    "version": 3
   },
   "file_extension": ".py",
   "mimetype": "text/x-python",
   "name": "python",
   "nbconvert_exporter": "python",
   "pygments_lexer": "ipython3",
   "version": "3.9.13"
  }
 },
 "nbformat": 4,
 "nbformat_minor": 1
}
